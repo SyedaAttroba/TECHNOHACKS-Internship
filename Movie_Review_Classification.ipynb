{
  "cells": [
    {
      "cell_type": "markdown",
      "source": [
        "#Project - Movie Reviews Classification\n",
        "#TECHNOHACKS Internship - Task-3"
      ],
      "metadata": {
        "id": "AH6NVtP3ZlrI"
      }
    },
    {
      "cell_type": "code",
      "execution_count": null,
      "metadata": {
        "id": "tYfNzkPuZh4U"
      },
      "outputs": [],
      "source": [
        "from nltk.tokenize import RegexpTokenizer\n",
        "from nltk.corpus import stopwords\n",
        "from nltk.stem.porter import PorterStemmer"
      ]
    },
    {
      "cell_type": "code",
      "execution_count": null,
      "metadata": {
        "id": "8WG67eeNZh4X"
      },
      "outputs": [],
      "source": [
        "tokenizer = RegexpTokenizer(r'\\w+')\n",
        "en_stopwords = set(stopwords.words('english'))\n",
        "ps = PorterStemmer()"
      ]
    },
    {
      "cell_type": "code",
      "execution_count": null,
      "metadata": {
        "id": "Jdkxk3meZh4Y"
      },
      "outputs": [],
      "source": [
        "def getStemmedReview(review):\n",
        "    review=review.lower()\n",
        "    review = review.replace(\"<br /><br />\",\" \")\n",
        "\n",
        "    tokens = tokenizer.tokenize(review)\n",
        "    stopwords = [token for token in tokens if token not in en_stopwords]\n",
        "    new_token = [ps.stem(tokens) for tokens in stopwords]\n",
        "\n",
        "    cleaned_review = \" \".join(new_token)\n",
        "\n",
        "    return cleaned_review"
      ]
    },
    {
      "cell_type": "code",
      "execution_count": null,
      "metadata": {
        "id": "_xmtFYhEZh4Y"
      },
      "outputs": [],
      "source": [
        "sample = \"\"\"I loved this movie <br /><br /> since I was 7 and I saw it on the opening day. It was so touching and beautiful. I strongly recommend seeing for all. It's a movie to watch with your family by far.<br /><br />My MPAA rating: PG-13 for thematic elements, prolonged scenes of disastor, nudity/sexuality and some language.\"\"\""
      ]
    },
    {
      "cell_type": "code",
      "execution_count": null,
      "metadata": {
        "id": "VOQxAyg6Zh4Z",
        "outputId": "cbd2e82e-bf4f-4e0e-a6df-9b6ad3e328ed"
      },
      "outputs": [
        {
          "data": {
            "text/plain": [
              "'love movi sinc 7 saw open day touch beauti strongli recommend see movi watch famili far mpaa rate pg 13 themat element prolong scene disastor nuditi sexual languag'"
            ]
          },
          "execution_count": 192,
          "metadata": {},
          "output_type": "execute_result"
        }
      ],
      "source": [
        "getStemmedReview(sample)"
      ]
    },
    {
      "cell_type": "code",
      "execution_count": null,
      "metadata": {
        "id": "yBjCB3-1Zh4b"
      },
      "outputs": [],
      "source": [
        "x = [\"This was an awesome movie\",\n",
        "     \"Great good movie! I liked it a lot\",\n",
        "     \"Happy Ending! awesome acting by the hero\",\n",
        "     \"loved it! truly great\",\n",
        "     \"bad not upto the mark\",\n",
        "     \"could have better\",\n",
        "     \"did not like the movie\",\n",
        "     \"Surely a Disappointing movie\"]\n",
        "y = [1,1,1,1,0,0,0,0]\n"
      ]
    },
    {
      "cell_type": "code",
      "execution_count": null,
      "metadata": {
        "id": "8_O3lJLKZh4c",
        "outputId": "adefedd2-e42b-4ea9-f394-caad46ec0a76"
      },
      "outputs": [
        {
          "name": "stdout",
          "output_type": "stream",
          "text": [
            "['awesom movi', 'great good movi like lot', 'happi end awesom act hero', 'love truli great', 'bad upto mark', 'could better', 'like movi', 'sure disappoint movi']\n"
          ]
        }
      ],
      "source": [
        "cleaned_x =[]\n",
        "for i in x:\n",
        "    cleaned_x.append(getStemmedReview(i))\n",
        "print(cleaned_x)"
      ]
    },
    {
      "cell_type": "code",
      "execution_count": null,
      "metadata": {
        "id": "oyhdIjPSZh4c",
        "outputId": "a9c39988-82db-4328-bbfe-a3b90d422fbf"
      },
      "outputs": [
        {
          "name": "stdout",
          "output_type": "stream",
          "text": [
            "[[0 1 0 0 0 0 0 0 0 0 0 0 0 0 0 1 0 0 0]\n",
            " [0 0 0 0 0 0 0 1 1 0 0 1 1 0 0 1 0 0 0]\n",
            " [1 1 0 0 0 0 1 0 0 1 1 0 0 0 0 0 0 0 0]\n",
            " [0 0 0 0 0 0 0 0 1 0 0 0 0 1 0 0 0 1 0]\n",
            " [0 0 1 0 0 0 0 0 0 0 0 0 0 0 1 0 0 0 1]\n",
            " [0 0 0 1 1 0 0 0 0 0 0 0 0 0 0 0 0 0 0]\n",
            " [0 0 0 0 0 0 0 0 0 0 0 1 0 0 0 1 0 0 0]\n",
            " [0 0 0 0 0 1 0 0 0 0 0 0 0 0 0 1 1 0 0]]\n",
            "['act', 'awesom', 'bad', 'better', 'could', 'disappoint', 'end', 'good', 'great', 'happi', 'hero', 'like', 'lot', 'love', 'mark', 'movi', 'sure', 'truli', 'upto']\n",
            "(8, 19)\n",
            "{'awesom': 1, 'movi': 15, 'great': 8, 'good': 7, 'like': 11, 'lot': 12, 'happi': 9, 'end': 6, 'act': 0, 'hero': 10, 'love': 13, 'truli': 17, 'bad': 2, 'upto': 18, 'mark': 14, 'could': 4, 'better': 3, 'sure': 16, 'disappoint': 5}\n"
          ]
        }
      ],
      "source": [
        "# Vectorisation\n",
        "from sklearn.feature_extraction.text import CountVectorizer\n",
        "cv= CountVectorizer()\n",
        "vectorized_x = (cv.fit_transform(cleaned_x)).toarray()\n",
        "print(vectorized_x)\n",
        "print(cv.get_feature_names())\n",
        "print(vectorized_x.shape)\n",
        "print(cv.vocabulary_)"
      ]
    },
    {
      "cell_type": "code",
      "execution_count": null,
      "metadata": {
        "id": "zH6zm-QXZh4d",
        "outputId": "f5ee7c55-c3cc-42fc-e0d7-7b34717c38b6"
      },
      "outputs": [
        {
          "name": "stdout",
          "output_type": "stream",
          "text": [
            "[1 1]\n"
          ]
        }
      ],
      "source": [
        "# Applying Multinomial Naive Bayes\n",
        "from sklearn.naive_bayes import MultinomialNB\n",
        "\n",
        "test_x = [\"The movie I saw was good\", \"I was happy and I loved the acting in the movie\"]\n",
        "\n",
        "mnb= MultinomialNB()\n",
        "#Training\n",
        "mnb.fit(vectorized_x,y)\n",
        "#prediction\n",
        "test_clean = [getStemmedReview(i) for i in test_x]\n",
        "xt_vec = cv.transform(test_clean).toarray()\n",
        "#print(test_clean)\n",
        "print (mnb.predict(xt_vec))"
      ]
    },
    {
      "cell_type": "code",
      "execution_count": null,
      "metadata": {
        "id": "zACBW7tNZh4f",
        "outputId": "8d9b9647-aa57-4f34-e1c5-ca0ba4dc7882"
      },
      "outputs": [
        {
          "name": "stdout",
          "output_type": "stream",
          "text": [
            "Positive Review\n",
            "Positive Review\n"
          ]
        }
      ],
      "source": [
        "for i in mnb.predict(xt_vec):\n",
        "    if i==1:\n",
        "        print(\"Positive Review\")\n",
        "    else:\n",
        "        print(\"Negative Review\")"
      ]
    }
  ],
  "metadata": {
    "kernelspec": {
      "display_name": "Python 3",
      "language": "python",
      "name": "python3"
    },
    "language_info": {
      "codemirror_mode": {
        "name": "ipython",
        "version": 3
      },
      "file_extension": ".py",
      "mimetype": "text/x-python",
      "name": "python",
      "nbconvert_exporter": "python",
      "pygments_lexer": "ipython3",
      "version": "3.7.3"
    },
    "colab": {
      "provenance": []
    }
  },
  "nbformat": 4,
  "nbformat_minor": 0
}